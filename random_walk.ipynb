{
 "cells": [
  {
   "cell_type": "code",
   "execution_count": 1,
   "metadata": {},
   "outputs": [],
   "source": [
    "# the classics\n",
    "import numpy as np\n",
    "import matplotlib.pyplot as plt\n",
    "from random import choices"
   ]
  },
  {
   "cell_type": "code",
   "execution_count": 2,
   "metadata": {},
   "outputs": [],
   "source": [
    "# helper functions\n",
    "NEIGHBORS = [[1,0],[-1,0],[0,-1],[0,1]]\n",
    "\n",
    "def get_probabilities(pos, B, w, neighbors = NEIGHBORS):\n",
    "    x = np.subtract(B,pos)\n",
    "    N = len(neighbors)\n",
    "    cos_t = np.dot(neighbors,x)/(np.linalg.norm(x)*np.linalg.norm(neighbors, axis=1))\n",
    "    p = 1/N + 1/N * w * cos_t\n",
    "    return p\n",
    "\n",
    "def get_neighbors(pos, M = 0, N = 0, backtracks_allowed = True, position_history = []):\n",
    "    neighbors = []\n",
    "    if M == 0 or N == 0:\n",
    "        for delta in NEIGHBORS:\n",
    "            if check_backtrack(np.add(pos,delta), position_history, backtracks_allowed):\n",
    "                neighbors.append(delta)\n",
    "        return neighbors\n",
    "    \n",
    "    low = np.array([0,0])\n",
    "    high = np.array([M-1,N-1])\n",
    "    \n",
    "    for delta in NEIGHBORS:\n",
    "        pos_new = np.add(pos,delta)\n",
    "        if all(pos_new >= low) and all(pos_new <= high) and check_backtrack(pos_new, position_history, backtracks_allowed):\n",
    "            neighbors.append(delta)\n",
    "\n",
    "    return neighbors\n",
    "\n",
    "def check_backtrack(pos_new, position_history, backtracks_allowed = False):\n",
    "    if backtracks_allowed:\n",
    "        return True\n",
    "    \n",
    "    # inefficient! better data structures for lookup would be great\n",
    "    for elem in position_history:\n",
    "        if np.array_equal(pos_new,elem):\n",
    "            return False\n",
    "    \n",
    "    return True\n",
    "\n",
    "def visualizer(plot_data,A,B,M=0,N=0):\n",
    "    if M == 0 or N == 0:\n",
    "        xmax = max(max(plot_data[0]), B[0])\n",
    "        xmin = min(min(plot_data[0]), B[0])\n",
    "        ymax = max(max(plot_data[1]), B[1])\n",
    "        ymin = min(min(plot_data[1]), B[1])\n",
    "    else:\n",
    "        xmax = M-1\n",
    "        xmin = 0\n",
    "        ymax = N-1\n",
    "        ymin = 0        \n",
    "    \n",
    "    plt.scatter(plot_data[0],plot_data[1])\n",
    "    plt.plot(plot_data[0],plot_data[1])\n",
    "\n",
    "    plt.plot(A[0],A[1],marker='*', markersize = '15', color='green')\n",
    "    plt.plot(B[0],B[1],marker='*', markersize = '15', color='red')\n",
    "\n",
    "    plt.xlim(xmin-0.5, xmax+0.5)\n",
    "    plt.ylim(ymin-0.5, ymax+0.5)\n",
    "    ax = plt.gca()\n",
    "    ax.set_aspect('equal', adjustable='box')\n",
    "    plt.grid()"
   ]
  },
  {
   "cell_type": "code",
   "execution_count": 3,
   "metadata": {},
   "outputs": [],
   "source": [
    "# for doing lots of runs\n",
    "def pathfinder(A, B, M = 0, N = 0, w = 0, backtracks_allowed = True):\n",
    "    pos = A\n",
    "    position_history = [np.array(A)]\n",
    "    step_count = 0\n",
    "    \n",
    "    got_stuck = False\n",
    "    \n",
    "    while not np.array_equal(pos,B):\n",
    "        neighbors = get_neighbors(pos, M, N, backtracks_allowed, position_history)\n",
    "\n",
    "        if not neighbors:\n",
    "            got_stuck = True\n",
    "            break\n",
    "\n",
    "        p = get_probabilities(pos, B, w, neighbors)\n",
    "\n",
    "        next_step = choices(neighbors,p)[0]\n",
    "        pos = np.add(pos,next_step)\n",
    "\n",
    "        position_history.append(pos)\n",
    "        step_count += 1\n",
    "      \n",
    "    return step_count, got_stuck, position_history # better data handling would be cool\n"
   ]
  },
  {
   "cell_type": "code",
   "execution_count": 4,
   "metadata": {},
   "outputs": [
    {
     "name": "stdout",
     "output_type": "stream",
     "text": [
      "Stuck!!!!\n"
     ]
    },
    {
     "data": {
      "image/png": "[encoded data removed]",
      "text/plain": [
       "<Figure size 432x288 with 1 Axes>"
      ]
     },
     "metadata": {
      "needs_background": "light"
     },
     "output_type": "display_data"
    }
   ],
   "source": [
    "# visualizations, saves individual runs\n",
    "\n",
    "##### PARAMETERS TO CHANGE #####\n",
    "\n",
    "# define start (A) and end (B) positions, weight (w)\n",
    "A = [0,0]\n",
    "B = [9,9]\n",
    "\n",
    "# define grid size M x N\n",
    "# set either to zero to ignore boundaries (untested)\n",
    "M = 10\n",
    "N = 10\n",
    "\n",
    "w = 0.5 # 0 =< w =< 1\n",
    "\n",
    "backtracks_allowed = False\n",
    "\n",
    "##### CODE #####\n",
    "\n",
    "# current position\n",
    "pos = A\n",
    "position_history = [np.array(A)]\n",
    "step_count = 0\n",
    "\n",
    "while not np.array_equal(pos,B):\n",
    "    neighbors = get_neighbors(pos, M, N, backtracks_allowed, position_history)\n",
    "    \n",
    "    if not neighbors:\n",
    "        print(\"Stuck!!!!\")\n",
    "        break\n",
    "    \n",
    "    p = get_probabilities(pos, B, w, neighbors)\n",
    "    \n",
    "    next_step = choices(neighbors,p)[0]\n",
    "    pos = np.add(pos,next_step)\n",
    "    \n",
    "    position_history.append(pos)\n",
    "    step_count += 1\n",
    "    \n",
    "# matplotlib\n",
    "plot_data = np.transpose(position_history)\n",
    "visualizer(plot_data, A,B,M,N)\n",
    "plt.title(\"Weight = \"+str(w)+\", steps = \"+str(step_count));"
   ]
  },
  {
   "cell_type": "code",
   "execution_count": null,
   "metadata": {},
   "outputs": [],
   "source": [
    "# collect statistics about a lot of runs\n",
    "##### PARAMETERS TO CHANGE #####\n",
    "\n",
    "# define start (A) and end (B) positions, weight (w)\n",
    "A = [0,0]\n",
    "B = [4,4]\n",
    "\n",
    "# define grid size M x N\n",
    "# set either to 0 to ignore boundaries\n",
    "M = 5\n",
    "N = 5\n",
    "\n",
    "w = 1 # 0 < w < 1\n",
    "\n",
    "backtracks_allowed = False\n",
    "\n",
    "n_runs = 1000\n",
    "\n",
    "##### CODE #####\n",
    "success_data = []\n",
    "stuck_data = []\n",
    "\n",
    "for i in range(n_runs):\n",
    "    run = pathfinder(A,B,M,N,w,backtracks_allowed)\n",
    "    step_count = run[0]\n",
    "    got_stuck = run[1]\n",
    "    \n",
    "    # This would be much more elegantly handled by collecting all the data then doing cuts in post :)\n",
    "    if got_stuck:\n",
    "        stuck_data.append(step_count)\n",
    "    else:\n",
    "        success_data.append(step_count)"
   ]
  },
  {
   "cell_type": "code",
   "execution_count": null,
   "metadata": {},
   "outputs": [],
   "source": [
    "plt.hist(success_data, max(success_data)-min(success_data));\n",
    "if len(stuck_data)>0: \n",
    "    plt.hist(stuck_data, max(stuck_data)-min(stuck_data),color = 'yellow'); # only when backtracking is forbidden\n",
    "    plt.title(\"Completed: \"+str(len(success_data))+\", stuck: \"+str(len(stuck_data)))\n",
    "ax = plt.gca()\n",
    "ax.locator_params(axis='x', integer=True)\n",
    "plt.xlim(4,24);\n"
   ]
  },
  {
   "cell_type": "code",
   "execution_count": null,
   "metadata": {},
   "outputs": [],
   "source": []
  },
  {
   "cell_type": "code",
   "execution_count": null,
   "metadata": {},
   "outputs": [],
   "source": []
  },
  {
   "cell_type": "code",
   "execution_count": null,
   "metadata": {},
   "outputs": [],
   "source": []
  }
 ],
 "metadata": {
  "kernelspec": {
   "display_name": "Python 3",
   "language": "python",
   "name": "python3"
  },
  "language_info": {
   "codemirror_mode": {
    "name": "ipython",
    "version": 3
   },
   "file_extension": ".py",
   "mimetype": "text/x-python",
   "name": "python",
   "nbconvert_exporter": "python",
   "pygments_lexer": "ipython3",
   "version": "3.7.0"
  }
 },
 "nbformat": 4,
 "nbformat_minor": 2
}
